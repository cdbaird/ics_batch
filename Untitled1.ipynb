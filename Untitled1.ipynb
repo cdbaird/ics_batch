{
 "cells": [
  {
   "cell_type": "code",
   "execution_count": 78,
   "id": "09b113d9-536d-4ef0-a956-9caa5ad80d6d",
   "metadata": {},
   "outputs": [],
   "source": [
    "import numpy as np\n",
    "import os\n",
    "import yaml as y\n",
    "from copy import deepcopy"
   ]
  },
  {
   "cell_type": "code",
   "execution_count": 25,
   "id": "faab05fc-d32b-4550-baea-cb0665bf7327",
   "metadata": {},
   "outputs": [
    {
     "data": {
      "text/plain": [
       "'/Users/cdbaird/Documents/ptarmigan/batch_test'"
      ]
     },
     "execution_count": 25,
     "metadata": {},
     "output_type": "execute_result"
    }
   ],
   "source": []
  },
  {
   "cell_type": "code",
   "execution_count": 73,
   "id": "fa44fed0-62cf-4618-bd0e-2b2a18024ff7",
   "metadata": {},
   "outputs": [],
   "source": [
    "with open('default.yml') as f:\n",
    "    default_yml = y.safe_load(f)"
   ]
  },
  {
   "cell_type": "code",
   "execution_count": 56,
   "id": "200f195f-4ed2-4039-933d-ca85a1bf6f06",
   "metadata": {},
   "outputs": [],
   "source": [
    "maths = yml['constants']['gamma']"
   ]
  },
  {
   "cell_type": "code",
   "execution_count": 74,
   "id": "4e5d3a53-fe87-47a4-bf5e-f2cb5a5e63f8",
   "metadata": {},
   "outputs": [
    {
     "data": {
      "text/plain": [
       "{'control': {'lcfa': False,\n",
       "  'radiation_reaction': False,\n",
       "  'pair_creation': False},\n",
       " 'laser': {'a0': 0.5,\n",
       "  'wavelength': '0.8 * micro',\n",
       "  'fwhm_duration': '30.0 * femto',\n",
       "  'waist': '10 * micro',\n",
       "  'polarization': 'linear'},\n",
       " 'beam': {'ne': 5000000,\n",
       "  'charge': 'e',\n",
       "  'species': 'electron',\n",
       "  'gamma': '90 / 0.511',\n",
       "  'sigma': '90 / 0.511 * 0.1',\n",
       "  'radius': '1.0 * micro',\n",
       "  'length': '1.0 * micro',\n",
       "  'rms_divergence': '1.7 * milli',\n",
       "  'collision_angle': '5.0 * degree'},\n",
       " 'output': {'dump_all_particles': 'hdf5',\n",
       "  'max_angle': '30.0 * milli',\n",
       "  'coordinate_system': 'beam'}}"
      ]
     },
     "execution_count": 74,
     "metadata": {},
     "output_type": "execute_result"
    }
   ],
   "source": [
    "default_yml"
   ]
  },
  {
   "cell_type": "markdown",
   "id": "fee8c076-12e1-4638-823c-0582d894506d",
   "metadata": {},
   "source": [
    "Want to generate input yml files by specifying parameters to scan. \n",
    "input_file object, constructor takes dict of arguments which overwrite default values\n",
    "\n",
    "\n"
   ]
  },
  {
   "cell_type": "code",
   "execution_count": null,
   "id": "d1c358db-1d00-4917-a127-6582c43c8905",
   "metadata": {},
   "outputs": [],
   "source": [
    "class Simulation(object):\n",
    "    \n",
    "    def __init__(self, parameters=None):\n",
    "        if parameters:\n",
    "            self.__populate(parameters)\n",
    "        else:\n",
    "            self.parameters = default_yml\n",
    "            \n",
    "    def __populate(self, parameters):\n",
    "        \n",
    "    \n",
    "    def __generate_ID(self):\n",
    "        pass\n",
    "    \n",
    "    def __generate_path(self):\n",
    "        pass\n",
    "    \n",
    "    def __generate_input_yml(self):\n",
    "        pass\n",
    "    \n",
    "    def _set_batch_name(self, batch_name):\n",
    "        self.batch_name = batch_name\n",
    "    \n",
    "    def _get_batch_name(self):\n",
    "        "
   ]
  },
  {
   "cell_type": "code",
   "execution_count": 79,
   "id": "daea3be9-5c21-4ace-9a57-108b596d7141",
   "metadata": {},
   "outputs": [],
   "source": [
    "parameters = {'a0': 0.9, 'ne': 10000}\n",
    "new_yml = deepcopy(default_yml)\n"
   ]
  },
  {
   "cell_type": "code",
   "execution_count": 80,
   "id": "cb5941a9-7096-4bc4-ba95-22f12641dfe7",
   "metadata": {},
   "outputs": [
    {
     "data": {
      "text/plain": [
       "{'control': {'lcfa': False,\n",
       "  'radiation_reaction': False,\n",
       "  'pair_creation': False},\n",
       " 'laser': {'a0': 0.5,\n",
       "  'wavelength': '0.8 * micro',\n",
       "  'fwhm_duration': '30.0 * femto',\n",
       "  'waist': '10 * micro',\n",
       "  'polarization': 'linear'},\n",
       " 'beam': {'ne': 5000000,\n",
       "  'charge': 'e',\n",
       "  'species': 'electron',\n",
       "  'gamma': '90 / 0.511',\n",
       "  'sigma': '90 / 0.511 * 0.1',\n",
       "  'radius': '1.0 * micro',\n",
       "  'length': '1.0 * micro',\n",
       "  'rms_divergence': '1.7 * milli',\n",
       "  'collision_angle': '5.0 * degree'},\n",
       " 'output': {'dump_all_particles': 'hdf5',\n",
       "  'max_angle': '30.0 * milli',\n",
       "  'coordinate_system': 'beam'}}"
      ]
     },
     "execution_count": 80,
     "metadata": {},
     "output_type": "execute_result"
    }
   ],
   "source": [
    "new_yml"
   ]
  },
  {
   "cell_type": "code",
   "execution_count": 62,
   "id": "ebcf8be2-071f-4cc7-a1da-a3c98798aa8a",
   "metadata": {},
   "outputs": [
    {
     "name": "stdout",
     "output_type": "stream",
     "text": [
      "0.9\n"
     ]
    }
   ],
   "source": [
    "test = {'a0': 0.9}\n",
    "def dict_update(d, new):\n",
    "    for k in d.values():\n",
    "        for j in k.keys():\n",
    "            if j in new.keys():\n",
    "                k[j] = new[j]\n",
    "                print(k[j])\n",
    "        \n",
    "dict_update(new_yml, test)\n",
    "        \n",
    "    \n",
    "    "
   ]
  },
  {
   "cell_type": "code",
   "execution_count": 114,
   "id": "95526033-0f82-460e-9fa0-c0436ece5ac3",
   "metadata": {},
   "outputs": [],
   "source": [
    "def update_nested_dict(dict1, dict2, key_map):\n",
    "    \"\"\"\n",
    "    Updates nested values of dict1 based on a key mapping and values from dict2.\n",
    "\n",
    "    Args:\n",
    "    dict1 (dict): The primary dictionary to be updated.\n",
    "    dict2 (dict): The dictionary containing new values.\n",
    "    key_map (dict): Mapping of keys in dict2 to paths (tuples) in dict1.\n",
    "\n",
    "    Returns:\n",
    "    dict: The updated dictionary dict1.\n",
    "    \"\"\"\n",
    "    for key, value in dict2.items():\n",
    "        # Check if the key in dict2 is specified in key_map\n",
    "        if key in key_map:\n",
    "            # Retrieve the path to the correct position in dict1\n",
    "            k0, k1 = key_map[key]\n",
    "            dict1[k0][k1] = value\n",
    "            \n",
    "    return dict1\n",
    "\n",
    "def generate_key_map(nested_dict, current_path=(), key_map=None):\n",
    "    \"\"\"\n",
    "    Generates a key map from a nested dictionary, mapping each key to a tuple representing its path.\n",
    "\n",
    "    Args:\n",
    "    nested_dict (dict): The nested dictionary from which to generate the key map.\n",
    "    current_path (tuple): The current path of keys leading to the current dictionary level.\n",
    "    key_map (dict): The dictionary being populated with key paths.\n",
    "\n",
    "    Returns:\n",
    "    dict: A dictionary with keys and their paths in the nested dictionary.\n",
    "    \"\"\"\n",
    "    if key_map is None:\n",
    "        key_map = {}\n",
    "\n",
    "    for key, value in nested_dict.items():\n",
    "        # Append the current key to the path\n",
    "        path = current_path + (key,)\n",
    "        if isinstance(value, dict):\n",
    "            # Recurse into the sub-dictionary\n",
    "            generate_key_map(value, path, key_map)\n",
    "        else:\n",
    "            # Add the path to the key_map\n",
    "            key_map[key] = path\n",
    "\n",
    "    return key_map\n",
    "\n",
    "\n"
   ]
  },
  {
   "cell_type": "code",
   "execution_count": 115,
   "id": "1c26ac6a-f66b-46b7-b412-23896e241b6e",
   "metadata": {},
   "outputs": [
    {
     "data": {
      "text/plain": [
       "{'lcfa': ('control', 'lcfa'),\n",
       " 'radiation_reaction': ('control', 'radiation_reaction'),\n",
       " 'pair_creation': ('control', 'pair_creation'),\n",
       " 'a0': ('laser', 'a0'),\n",
       " 'wavelength': ('laser', 'wavelength'),\n",
       " 'fwhm_duration': ('laser', 'fwhm_duration'),\n",
       " 'waist': ('laser', 'waist'),\n",
       " 'polarization': ('laser', 'polarization'),\n",
       " 'ne': ('beam', 'ne'),\n",
       " 'charge': ('beam', 'charge'),\n",
       " 'species': ('beam', 'species'),\n",
       " 'gamma': ('beam', 'gamma'),\n",
       " 'sigma': ('beam', 'sigma'),\n",
       " 'radius': ('beam', 'radius'),\n",
       " 'length': ('beam', 'length'),\n",
       " 'rms_divergence': ('beam', 'rms_divergence'),\n",
       " 'collision_angle': ('beam', 'collision_angle'),\n",
       " 'dump_all_particles': ('output', 'dump_all_particles'),\n",
       " 'max_angle': ('output', 'max_angle'),\n",
       " 'coordinate_system': ('output', 'coordinate_system')}"
      ]
     },
     "execution_count": 115,
     "metadata": {},
     "output_type": "execute_result"
    }
   ],
   "source": [
    "# update_nested_dict(new_yml, parameters, {'a0': ('laser', 'a0'), 'ne': ('beam', 'ne')})\n",
    "generate_key_map(new_yml)"
   ]
  },
  {
   "cell_type": "code",
   "execution_count": null,
   "id": "a6360eef-3dff-46f8-bdaa-372187f049ba",
   "metadata": {},
   "outputs": [],
   "source": []
  }
 ],
 "metadata": {
  "kernelspec": {
   "display_name": "Python 3 (ipykernel)",
   "language": "python",
   "name": "python3"
  },
  "language_info": {
   "codemirror_mode": {
    "name": "ipython",
    "version": 3
   },
   "file_extension": ".py",
   "mimetype": "text/x-python",
   "name": "python",
   "nbconvert_exporter": "python",
   "pygments_lexer": "ipython3",
   "version": "3.10.0"
  }
 },
 "nbformat": 4,
 "nbformat_minor": 5
}
